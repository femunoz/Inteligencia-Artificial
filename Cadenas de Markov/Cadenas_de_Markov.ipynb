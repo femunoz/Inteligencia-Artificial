{
  "nbformat": 4,
  "nbformat_minor": 0,
  "metadata": {
    "colab": {
      "provenance": []
    },
    "kernelspec": {
      "name": "python3",
      "display_name": "Python 3"
    },
    "language_info": {
      "name": "python"
    }
  },
  "cells": [
    {
      "cell_type": "markdown",
      "source": [
        "# Cadenas de Markov\n",
        "\n",
        "Revise este video (visitado en julio 2023) [Markov Chains Clearly Explained! Part - 1](https://youtu.be/i3AkTO9HLXo)\n",
        "\n",
        "Sólo a modo de referencia la playlist completa [Markov Chains Clearly Explained!](https://www.youtube.com/playlist?list=PLM8wYQRetTxBkdvBtz-gw8b9lcVkdXQKV)\n"
      ],
      "metadata": {
        "id": "Dovw4Je1g6ml"
      }
    },
    {
      "cell_type": "markdown",
      "source": [
        "Tomemos el ejemplo de cadena de Markov del video.\n",
        "\n",
        "[imagen](/content/drive/MyDrive/__GitHub/Recursos-para-docencia/Asignaturas/IA/imagenes/Cadena de restaurante.png)\n"
      ],
      "metadata": {
        "id": "Ft4qbbNrmUrs"
      }
    },
    {
      "cell_type": "markdown",
      "source": [
        "## Estadio estacionario\n",
        "\n"
      ],
      "metadata": {
        "id": "bRYQsAakkwIp"
      }
    },
    {
      "cell_type": "markdown",
      "source": [
        "## ¿Y en Python?\n",
        "El siguiente es el código que resuelve el problema planteado en el video:"
      ],
      "metadata": {
        "id": "vAHQKtbmiapg"
      }
    },
    {
      "cell_type": "code",
      "source": [
        "import numpy as np\n",
        "\n",
        "# Creamos una matriz\n",
        "A = np.array([(0.2, 0.6, 0.2),\n",
        " (0.3,   0, 0.7),\n",
        "  (0.5,   0, 0.5)\n",
        "  ])\n",
        "\n",
        "# mostramos el contenido de la matriz A:\n",
        "print(A)\n"
      ],
      "metadata": {
        "colab": {
          "base_uri": "https://localhost:8080/"
        },
        "id": "vjR4vGlZqFtg",
        "outputId": "686625e5-3d7a-40f1-d31e-6e8c4e065366"
      },
      "execution_count": 1,
      "outputs": [
        {
          "output_type": "stream",
          "name": "stdout",
          "text": [
            "[[0.2 0.6 0.2]\n",
            " [0.3 0.  0.7]\n",
            " [0.5 0.  0.5]]\n"
          ]
        }
      ]
    },
    {
      "cell_type": "markdown",
      "source": [
        "Seguimos calculando con los vectores pi1 y pi2"
      ],
      "metadata": {
        "id": "xhF7Vi9NiRSG"
      }
    },
    {
      "cell_type": "markdown",
      "source": [
        "Primero pi1"
      ],
      "metadata": {
        "id": "B1jh6B0LjY6t"
      }
    },
    {
      "cell_type": "code",
      "source": [
        "\n",
        "# Creamos el vector pi0\n",
        "pi0 = np.array([0,1,0])\n",
        "\n",
        "# Calculamos el vector pi1 usando el producto punto con A\n",
        "pi1 = pi0.dot(A)\n",
        "# Mostramos el contenido del vector pi1:\n",
        "print(pi1)"
      ],
      "metadata": {
        "colab": {
          "base_uri": "https://localhost:8080/"
        },
        "id": "DP2IbpYEtHRD",
        "outputId": "258f2e70-9c33-40a2-aa7c-b767a9472944"
      },
      "execution_count": 3,
      "outputs": [
        {
          "output_type": "stream",
          "name": "stdout",
          "text": [
            "[0.3 0.  0.7]\n"
          ]
        }
      ]
    },
    {
      "cell_type": "markdown",
      "source": [
        "Ahora pi2:"
      ],
      "metadata": {
        "id": "d2S-yUdqjmn3"
      }
    },
    {
      "cell_type": "code",
      "source": [
        "# pi2 por A\n",
        "pi2 = pi1.dot(A)\n",
        "# Mostramos el contenido del vector pi1:\n",
        "print(pi2)"
      ],
      "metadata": {
        "colab": {
          "base_uri": "https://localhost:8080/"
        },
        "id": "yZEXB7Gdrmkn",
        "outputId": "e0212b41-5c19-456b-c9b0-8ee1e91d6e5f"
      },
      "execution_count": 4,
      "outputs": [
        {
          "output_type": "stream",
          "name": "stdout",
          "text": [
            "[0.41 0.18 0.41]\n"
          ]
        }
      ]
    },
    {
      "cell_type": "markdown",
      "source": [
        "Finalmente pi2 * A, que sí es un estado estacionario."
      ],
      "metadata": {
        "id": "1lxYCiJkkNxU"
      }
    },
    {
      "cell_type": "code",
      "source": [
        "resultado = pi2.dot(A)\n",
        "print(resultado)"
      ],
      "metadata": {
        "colab": {
          "base_uri": "https://localhost:8080/"
        },
        "id": "OhYzjzI2kS0u",
        "outputId": "007aedcc-9674-4770-9f58-6619c322054b"
      },
      "execution_count": 6,
      "outputs": [
        {
          "output_type": "stream",
          "name": "stdout",
          "text": [
            "[0.341 0.246 0.413]\n"
          ]
        }
      ]
    }
  ]
}