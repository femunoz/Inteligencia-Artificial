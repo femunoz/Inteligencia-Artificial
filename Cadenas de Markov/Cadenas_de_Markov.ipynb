{
  "cells": [
    {
      "cell_type": "markdown",
      "metadata": {
        "id": "Dovw4Je1g6ml"
      },
      "source": [
        "# Cadenas de Markov - EN CONSTRUCCIÓN\n",
        "---\n",
        "**Competencias de requisito:**\n",
        "- Probabilidades condicionales.\n",
        "- Álgebra lineal.\n",
        "- Python.\n",
        "- Numpy.\n",
        "---\n",
        "**Instrucciones:**\n",
        "\n",
        "Revise este video (visitado en julio 2023) [Markov Chains Clearly Explained! Part - 1](https://youtu.be/i3AkTO9HLXo) y luego revise el código en Python a continuación.\n",
        "\n",
        "**Conceptos importantes:**\n",
        "\n",
        "- Matriz de transición.\n",
        "- Randomwalk.\n",
        "- \n",
        "\n",
        "(Sólo a modo de referencia sobre **Cadenas de Markov**, puede visitar la lista completa del video anterior en [Markov Chains Clearly Explained!](https://www.youtube.com/playlist?list=PLM8wYQRetTxBkdvBtz-gw8b9lcVkdXQKV))\n"
      ]
    },
    {
      "cell_type": "markdown",
      "metadata": {},
      "source": [
        "---\n",
        "La siguiente es una imagen extraída del video referenciado anteriormente y es un ejemplo de una **Cadena de Markov** \n",
        "\n",
        "![Cadena de ejemplo del restaurante](../imagenes/cadena-de-restaurante.png)\n",
        "\n",
        "**Propiedades de una Cadena de Markov:**\n",
        "\n",
        "1. _\"un estado depende exclusivamente del estado previo y no de la secuencia completa de pasos anteriores\"_. Matemáticamente:\n",
        "\n",
        "\n",
        "$P(X_n=x_n|X_1=x_1,X_2=x_2,...,X_{n-1}=x_{n-1}) = P(X_n=x_n|X_{n-1}=x_{n-1})$\n",
        "\n",
        "\n",
        "2. _\"la suma de los pesos de salida de cada una de las flechas de cualquier estado es igual a 1\"_. \n"
      ]
    },
    {
      "cell_type": "markdown",
      "metadata": {},
      "source": [
        "En el video se lleva el problema del restaurante a un problema de álgebra lineal llevando los pesos de las flechas a una matriz A, denominada _**matriz de transición**_. La siguiente imagen muestra esta matriz.\n",
        "\n",
        "![Cadena y matriz](../imagenes/cadena-y-matriz.png)"
      ]
    },
    {
      "cell_type": "markdown",
      "metadata": {},
      "source": [
        "El **objetivo** planteado en el video es _\"encontrar las probabilidades de cada estado\"_, para lo que se define un vector $\\pi$. Sus elementos corresponden a las probabilidades de los estados.\n",
        "\n",
        "Suponiendo que el primero es un día de pizza, el primer vector es $\\pi_0 = [0,1,0] $.\n",
        "\n",
        "Llevémoslo a Python..."
      ]
    },
    {
      "cell_type": "markdown",
      "metadata": {
        "id": "vAHQKtbmiapg"
      },
      "source": [
        "El siguiente código resuelve el problema planteado en el video. Nuestro objetivo es llegar al vector resultante del producto punto $\\pi_2 \\cdot A$, siguiendo como pasos el cálculo de los vectores horizontales $\\pi_1$ y $\\pi_2$ ."
      ]
    },
    {
      "cell_type": "code",
      "execution_count": 4,
      "metadata": {
        "colab": {
          "base_uri": "https://localhost:8080/"
        },
        "id": "vjR4vGlZqFtg",
        "outputId": "686625e5-3d7a-40f1-d31e-6e8c4e065366"
      },
      "outputs": [
        {
          "name": "stdout",
          "output_type": "stream",
          "text": [
            "[[0.2 0.6 0.2]\n",
            " [0.3 0.  0.7]\n",
            " [0.5 0.  0.5]]\n"
          ]
        }
      ],
      "source": [
        "import numpy as np\n",
        "\n",
        "# Creamos la matriz de transición del problema\n",
        "A = np.array([(0.2, 0.6, 0.2),\n",
        " (0.3,   0, 0.7),\n",
        "  (0.5,   0, 0.5)\n",
        "  ])\n",
        "\n",
        "# mostramos el contenido de la matriz A:\n",
        "print(A)"
      ]
    },
    {
      "cell_type": "markdown",
      "metadata": {
        "id": "xhF7Vi9NiRSG"
      },
      "source": [
        "Calculamos los vectores $\\pi_1$ y $\\pi_2$ partiendo con $\\pi_0$. Las variables `pi0`, `pi1` y `pi2` corresponden a los vectores respectivos."
      ]
    },
    {
      "cell_type": "markdown",
      "metadata": {
        "id": "B1jh6B0LjY6t"
      },
      "source": [
        "Primero $\\pi_1$."
      ]
    },
    {
      "cell_type": "code",
      "execution_count": 7,
      "metadata": {
        "colab": {
          "base_uri": "https://localhost:8080/"
        },
        "id": "DP2IbpYEtHRD",
        "outputId": "258f2e70-9c33-40a2-aa7c-b767a9472944"
      },
      "outputs": [
        {
          "name": "stdout",
          "output_type": "stream",
          "text": [
            "[0.3 0.  0.7]\n"
          ]
        }
      ],
      "source": [
        "\n",
        "# Creamos el vector pi0\n",
        "pi0 = np.array([0,1,0])\n",
        "\n",
        "# Calculamos el vector pi1 usando el producto punto con A\n",
        "pi1 = pi0.dot(A)\n",
        "# Mostramos el contenido del vector pi1:\n",
        "print(pi1)"
      ]
    },
    {
      "cell_type": "markdown",
      "metadata": {
        "id": "d2S-yUdqjmn3"
      },
      "source": [
        "Ahora $\\pi_2$"
      ]
    },
    {
      "cell_type": "code",
      "execution_count": 8,
      "metadata": {
        "colab": {
          "base_uri": "https://localhost:8080/"
        },
        "id": "yZEXB7Gdrmkn",
        "outputId": "e0212b41-5c19-456b-c9b0-8ee1e91d6e5f"
      },
      "outputs": [
        {
          "name": "stdout",
          "output_type": "stream",
          "text": [
            "[0.41 0.18 0.41]\n"
          ]
        }
      ],
      "source": [
        "# pi2 por A\n",
        "pi2 = pi1.dot(A)\n",
        "# Mostramos el contenido del vector pi1:\n",
        "print(pi2)"
      ]
    },
    {
      "cell_type": "markdown",
      "metadata": {
        "id": "1lxYCiJkkNxU"
      },
      "source": [
        "Finalmente $\\pi_2 \\cdot A$."
      ]
    },
    {
      "cell_type": "code",
      "execution_count": 13,
      "metadata": {
        "colab": {
          "base_uri": "https://localhost:8080/"
        },
        "id": "OhYzjzI2kS0u",
        "outputId": "007aedcc-9674-4770-9f58-6619c322054b"
      },
      "outputs": [
        {
          "name": "stdout",
          "output_type": "stream",
          "text": [
            "[0.341 0.246 0.413]\n"
          ]
        }
      ],
      "source": [
        "resultado = pi2.dot(A)\n",
        "print(resultado)"
      ]
    },
    {
      "cell_type": "code",
      "execution_count": 15,
      "metadata": {},
      "outputs": [
        {
          "name": "stdout",
          "output_type": "stream",
          "text": [
            "[0.35211268 0.21126761 0.43661972]\n"
          ]
        }
      ],
      "source": [
        "for i in range(100000):\n",
        "    \n",
        "    resultado = resultado.dot(A)\n",
        "print(resultado)"
      ]
    },
    {
      "cell_type": "code",
      "execution_count": null,
      "metadata": {},
      "outputs": [],
      "source": []
    },
    {
      "cell_type": "markdown",
      "metadata": {
        "id": "bRYQsAakkwIp"
      },
      "source": [
        "### Estado de equilibrio o distribución estacionaria\n",
        "\n",
        "Corresponde a la distribución de probabilidades de los estados de una cadena de Markov que deja de cambiar en el tiempo."
      ]
    },
    {
      "cell_type": "markdown",
      "metadata": {},
      "source": [
        "En el video, su autor muestra que este vector converge a $[0.35191, 0.21245, 0.435164]$."
      ]
    },
    {
      "cell_type": "code",
      "execution_count": 5,
      "metadata": {},
      "outputs": [
        {
          "data": {
            "text/plain": [
              "1.0"
            ]
          },
          "execution_count": 5,
          "metadata": {},
          "output_type": "execute_result"
        }
      ],
      "source": [
        "pi = np.array([0.35191, 0.21245, 0.43564])\n",
        "\n",
        "sum(pi)\n"
      ]
    },
    {
      "cell_type": "markdown",
      "metadata": {},
      "source": [
        "## Resolviendo un sistema de ecuaciones lineales\n",
        "\n",
        "A modo de repaso o recordatorio, se recomienda visitar [esta web](https://www.analyticslane.com/2018/10/29/sistemas-de-ecuaciones-lineales-con-numpy/) donde encontramos información de cómo solucionar un sistema de ecuaciones lineales usando Python."
      ]
    }
  ],
  "metadata": {
    "colab": {
      "provenance": []
    },
    "kernelspec": {
      "display_name": "Python 3",
      "name": "python3"
    },
    "language_info": {
      "codemirror_mode": {
        "name": "ipython",
        "version": 3
      },
      "file_extension": ".py",
      "mimetype": "text/x-python",
      "name": "python",
      "nbconvert_exporter": "python",
      "pygments_lexer": "ipython3",
      "version": "3.10.9"
    }
  },
  "nbformat": 4,
  "nbformat_minor": 0
}
