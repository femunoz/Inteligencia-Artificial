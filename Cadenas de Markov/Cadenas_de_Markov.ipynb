{
  "cells": [
    {
      "cell_type": "markdown",
      "metadata": {
        "id": "Dovw4Je1g6ml"
      },
      "source": [
        "# Cadenas de Markov\n",
        "\n",
        "\n",
        "## EN CONSTRUCCIÓN \n",
        "\n",
        "\n",
        "Revise este video (visitado en julio 2023) [Markov Chains Clearly Explained! Part - 1](https://youtu.be/i3AkTO9HLXo)\n",
        "\n",
        "Sólo a modo de referencia la playlist completa [Markov Chains Clearly Explained!](https://www.youtube.com/playlist?list=PLM8wYQRetTxBkdvBtz-gw8b9lcVkdXQKV)\n"
      ]
    },
    {
      "cell_type": "markdown",
      "metadata": {},
      "source": [
        "La siguiente es una imagen extraída del video referenciado anteriormente y es un ejemplo de una **Cadena de Markov** \n",
        "\n",
        "\n",
        "\n",
        "\n",
        "![Cadena de ejemplo del restaurante](../imagenes/cadena-de-restaurante.png)\n",
        "\n",
        "**Propiedades de una Cadena de Markov:**\n",
        "\n",
        "- un estado depende exclusivamente del estado previo.\n",
        "\n",
        "Matemáticamente:\n",
        "\n",
        "$P(X_n=x|X_1=x_1,X_2=x_2,...,X_{n-1}=x_{n-1}) = P(X_n=x_n|X_{n-1}=x_{n-1})$"
      ]
    },
    {
      "cell_type": "markdown",
      "metadata": {
        "id": "bRYQsAakkwIp"
      },
      "source": [
        "## Estadio estacionario\n",
        "\n"
      ]
    },
    {
      "cell_type": "markdown",
      "metadata": {
        "id": "vAHQKtbmiapg"
      },
      "source": [
        "## ¿Y en Python?\n",
        "El siguiente es el código que resuelve el problema planteado en el video:"
      ]
    },
    {
      "cell_type": "code",
      "execution_count": 1,
      "metadata": {
        "colab": {
          "base_uri": "https://localhost:8080/"
        },
        "id": "vjR4vGlZqFtg",
        "outputId": "686625e5-3d7a-40f1-d31e-6e8c4e065366"
      },
      "outputs": [
        {
          "name": "stdout",
          "output_type": "stream",
          "text": [
            "[[0.2 0.6 0.2]\n",
            " [0.3 0.  0.7]\n",
            " [0.5 0.  0.5]]\n"
          ]
        }
      ],
      "source": [
        "import numpy as np\n",
        "\n",
        "# Creamos una matriz\n",
        "A = np.array([(0.2, 0.6, 0.2),\n",
        " (0.3,   0, 0.7),\n",
        "  (0.5,   0, 0.5)\n",
        "  ])\n",
        "\n",
        "# mostramos el contenido de la matriz A:\n",
        "print(A)\n"
      ]
    },
    {
      "cell_type": "markdown",
      "metadata": {
        "id": "xhF7Vi9NiRSG"
      },
      "source": [
        "Seguimos calculando con los vectores $\\pi_1$ y $\\pi_2$ partiendo con $\\pi_0$, variables `pi1`, `p2` y `pi0` en el código respectivamente."
      ]
    },
    {
      "cell_type": "markdown",
      "metadata": {
        "id": "B1jh6B0LjY6t"
      },
      "source": [
        "Primero $\\pi_1$."
      ]
    },
    {
      "cell_type": "code",
      "execution_count": 3,
      "metadata": {
        "colab": {
          "base_uri": "https://localhost:8080/"
        },
        "id": "DP2IbpYEtHRD",
        "outputId": "258f2e70-9c33-40a2-aa7c-b767a9472944"
      },
      "outputs": [
        {
          "name": "stdout",
          "output_type": "stream",
          "text": [
            "[0.3 0.  0.7]\n"
          ]
        }
      ],
      "source": [
        "\n",
        "# Creamos el vector pi0\n",
        "pi0 = np.array([0,1,0])\n",
        "\n",
        "# Calculamos el vector pi1 usando el producto punto con A\n",
        "pi1 = pi0.dot(A)\n",
        "# Mostramos el contenido del vector pi1:\n",
        "print(pi1)"
      ]
    },
    {
      "cell_type": "markdown",
      "metadata": {
        "id": "d2S-yUdqjmn3"
      },
      "source": [
        "Ahora $\\pi_2$"
      ]
    },
    {
      "cell_type": "code",
      "execution_count": 4,
      "metadata": {
        "colab": {
          "base_uri": "https://localhost:8080/"
        },
        "id": "yZEXB7Gdrmkn",
        "outputId": "e0212b41-5c19-456b-c9b0-8ee1e91d6e5f"
      },
      "outputs": [
        {
          "name": "stdout",
          "output_type": "stream",
          "text": [
            "[0.41 0.18 0.41]\n"
          ]
        }
      ],
      "source": [
        "# pi2 por A\n",
        "pi2 = pi1.dot(A)\n",
        "# Mostramos el contenido del vector pi1:\n",
        "print(pi2)"
      ]
    },
    {
      "cell_type": "markdown",
      "metadata": {
        "id": "1lxYCiJkkNxU"
      },
      "source": [
        "Finalmente $\\pi_2 \\cdot A$, que sí es un estado estacionario."
      ]
    },
    {
      "cell_type": "code",
      "execution_count": 6,
      "metadata": {
        "colab": {
          "base_uri": "https://localhost:8080/"
        },
        "id": "OhYzjzI2kS0u",
        "outputId": "007aedcc-9674-4770-9f58-6619c322054b"
      },
      "outputs": [
        {
          "name": "stdout",
          "output_type": "stream",
          "text": [
            "[0.341 0.246 0.413]\n"
          ]
        }
      ],
      "source": [
        "resultado = pi2.dot(A)\n",
        "print(resultado)\n"
      ]
    }
  ],
  "metadata": {
    "colab": {
      "provenance": []
    },
    "kernelspec": {
      "display_name": "Python 3",
      "name": "python3"
    },
    "language_info": {
      "name": "python"
    }
  },
  "nbformat": 4,
  "nbformat_minor": 0
}
